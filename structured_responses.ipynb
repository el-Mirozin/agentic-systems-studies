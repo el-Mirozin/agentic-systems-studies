{
 "cells": [
  {
   "cell_type": "code",
   "execution_count": null,
   "id": "a4bc6a81",
   "metadata": {},
   "outputs": [],
   "source": [
    "import os\n",
    "\n",
    "import pandas as pd\n",
    "\n",
    "from dotenv import load_dotenv\n",
    "from google import genai\n",
    "from pydantic import BaseModel\n",
    "\n",
    "from studies_utils import comp_list_to_df"
   ]
  },
  {
   "cell_type": "code",
   "execution_count": null,
   "id": "83ca09a1",
   "metadata": {},
   "outputs": [],
   "source": [
    "gemini_key = os.getenv('GEMINI_API_KEY')"
   ]
  },
  {
   "cell_type": "code",
   "execution_count": null,
   "id": "ea6a40b2",
   "metadata": {},
   "outputs": [],
   "source": [
    "client = genai.Client(\n",
    "    api_key = gemini_key\n",
    ")"
   ]
  },
  {
   "cell_type": "code",
   "execution_count": null,
   "id": "c883a446",
   "metadata": {},
   "outputs": [],
   "source": [
    "class companies(BaseModel):\n",
    "    company_name: str\n",
    "    year: list[str]\n",
    "    mkt_value: list[str]"
   ]
  },
  {
   "cell_type": "code",
   "execution_count": null,
   "id": "e113b63d",
   "metadata": {},
   "outputs": [],
   "source": [
    "response = client.models.generate_content(\n",
    "    model = 'gemini-2.5-flash-lite',\n",
    "    contents = 'Could you please list the 10 biggest brazilian companies by market value, and include their value for each of the last 10 years?',\n",
    "    config = {\n",
    "        'response_mime_type': 'application/json',\n",
    "        'response_schema': list[companies]\n",
    "    },\n",
    ")"
   ]
  },
  {
   "cell_type": "code",
   "execution_count": null,
   "id": "5f8e9205",
   "metadata": {},
   "outputs": [],
   "source": [
    "print(response.text)"
   ]
  },
  {
   "cell_type": "code",
   "execution_count": null,
   "id": "6d9ae8ce",
   "metadata": {},
   "outputs": [],
   "source": [
    "comp_list: list[companies] = response.parsed\n",
    "\n",
    "df = comp_list_to_df(comp_list)"
   ]
  },
  {
   "cell_type": "code",
   "execution_count": null,
   "id": "2f321725",
   "metadata": {},
   "outputs": [],
   "source": [
    "df = df.assign(\n",
    "    mkt_value = (df['mkt_value'].str.replace(r'\\D', '', regex = True).astype(int))*10**7\n",
    ")"
   ]
  },
  {
   "cell_type": "code",
   "execution_count": null,
   "id": "78422c89",
   "metadata": {},
   "outputs": [],
   "source": []
  }
 ],
 "metadata": {
  "kernelspec": {
   "display_name": ".venv",
   "language": "python",
   "name": "python3"
  },
  "language_info": {
   "name": "python",
   "version": "3.10.12"
  }
 },
 "nbformat": 4,
 "nbformat_minor": 5
}
